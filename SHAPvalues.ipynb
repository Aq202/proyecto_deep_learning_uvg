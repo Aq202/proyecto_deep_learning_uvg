{
 "cells": [
  {
   "cell_type": "markdown",
   "metadata": {},
   "source": [
    "### Recordatorio: Hacer push del notebook de DinoGame después de entrenar y graficar métricas. Luego copiar esta celda y ejecutarla, si sirve, volver a hacer push."
   ]
  },
  {
   "cell_type": "code",
   "execution_count": null,
   "metadata": {
    "vscode": {
     "languageId": "plaintext"
    }
   },
   "outputs": [],
   "source": [
    "import shap\n",
    "import torch\n",
    "import random\n",
    "\n",
    "# Instanciar el entorno\n",
    "env = DinoGame()\n",
    "\n",
    "# 1. Cargar el modelo guardado\n",
    "state_size = 12\n",
    "action_size = 3\n",
    "agent = DQNAgent(state_size, action_size)\n",
    "agent.model.load_state_dict(torch.load('best_dino_model.pth'))\n",
    "agent.model.eval()  # Poner el modelo en modo evaluación\n",
    "\n",
    "# 2. Crear un conjunto de datos representativo de estados\n",
    "# Simulando algunos estados aleatorios del entorno DinoGame\n",
    "sample_states = []\n",
    "for _ in range(100):  # Obtener 100 ejemplos de estados\n",
    "    state = env.reset()\n",
    "    done = False\n",
    "    while not done:\n",
    "        action = random.randint(0, action_size - 1)\n",
    "        next_state, _, done = env.step(action)\n",
    "        sample_states.append(state)\n",
    "        state = next_state\n",
    "sample_states = torch.FloatTensor(sample_states[:100])  # Convertir a tensor y limitar a 100 estados\n",
    "\n",
    "# 3. Configurar SHAP DeepExplainer con el modelo cargado\n",
    "explainer = shap.GradientExplainer(agent.model, sample_states)\n",
    "\n",
    "# 4. Calcular los valores SHAP\n",
    "shap_values = explainer.shap_values(sample_states)\n",
    "\n",
    "# 5. Reorganizar los valores SHAP por acción\n",
    "# shap_values es una lista de matrices (una por estado); cada matriz tiene dimensiones (12, 3).\n",
    "# Extraer cada columna para agrupar por acción.\n",
    "shap_values_by_action = [np.array([state[:, i] for state in shap_values]) for i in range(action_size)]\n",
    "\n",
    "# 6. Visualizar los valores SHAP para cada acción\n",
    "feature_names = [f'Feature_{i}' for i in range(state_size)]\n",
    "for i in range(action_size):\n",
    "    print(f\"Valores SHAP para la acción {i}\")\n",
    "    shap.summary_plot(shap_values_by_action[i], sample_states.numpy(), feature_names=feature_names)\n"
   ]
  }
 ],
 "metadata": {
  "language_info": {
   "name": "python"
  }
 },
 "nbformat": 4,
 "nbformat_minor": 2
}
